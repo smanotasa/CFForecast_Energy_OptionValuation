{
 "cells": [
  {
   "cell_type": "code",
   "execution_count": 1,
   "metadata": {},
   "outputs": [],
   "source": [
    "import pandas as pd\n",
    "import numpy as np\n",
    "import os\n",
    "import pickle\n",
    "import tensorflow as tf\n",
    "import keras\n",
    "import sys\n",
    "from tensorflow.keras.layers import Layer, Dense, LSTM, GRU, Dropout, Input, Concatenate, Bidirectional, Attention\n",
    "from tensorflow.keras.models import Model\n",
    "from tensorflow.keras.optimizers.legacy import Adam\n",
    "from tensorflow.keras.callbacks import EarlyStopping\n",
    "from tensorflow.keras.models import load_model\n",
    "import keras_tuner as kt\n",
    "from tqdm import tqdm\n",
    "from sklearn.preprocessing import StandardScaler\n",
    "from category_encoders import CatBoostEncoder\n",
    "from sklearn.model_selection import train_test_split\n",
    "\n",
    "# For reproducibility\n",
    "tf.random.set_seed(42)\n",
    "np.random.seed(42)\n",
    "\n",
    "# Setting directory\n",
    "os.chdir('/Users/manotas/Documents/GitHub-Repos/CFForecast_Energy_OptionValuation')"
   ]
  },
  {
   "cell_type": "code",
   "execution_count": 9,
   "metadata": {},
   "outputs": [],
   "source": [
    "data = pd.read_csv('data/processed/TopRevenueMNC.csv')"
   ]
  },
  {
   "cell_type": "code",
   "execution_count": 3,
   "metadata": {},
   "outputs": [
    {
     "name": "stdout",
     "output_type": "stream",
     "text": [
      "Tensor Flow Version: 2.14.0\n",
      "Keras Version: 2.14.0\n",
      "\n",
      "Python 3.9.13 (main, Oct 20 2023, 23:53:00) \n",
      "[Clang 15.0.0 (clang-1500.0.40.1)]\n",
      "\n",
      "GPU is AVAILABLE\n"
     ]
    }
   ],
   "source": [
    "print(f\"Tensor Flow Version: {tf.__version__}\")\n",
    "print(f\"Keras Version: {keras.__version__}\")\n",
    "print()\n",
    "print(f\"Python {sys.version}\")\n",
    "gpu = len(tf.config.list_physical_devices('GPU'))>0\n",
    "print()\n",
    "print(\"GPU is\", \"AVAILABLE\" if gpu else \"NOT AVAILABLE\")"
   ]
  },
  {
   "cell_type": "code",
   "execution_count": 58,
   "metadata": {},
   "outputs": [
    {
     "data": {
      "text/html": [
       "<div>\n",
       "<style scoped>\n",
       "    .dataframe tbody tr th:only-of-type {\n",
       "        vertical-align: middle;\n",
       "    }\n",
       "\n",
       "    .dataframe tbody tr th {\n",
       "        vertical-align: top;\n",
       "    }\n",
       "\n",
       "    .dataframe thead th {\n",
       "        text-align: right;\n",
       "    }\n",
       "</style>\n",
       "<table border=\"1\" class=\"dataframe\">\n",
       "  <thead>\n",
       "    <tr style=\"text-align: right;\">\n",
       "      <th>metric</th>\n",
       "      <th>company</th>\n",
       "      <th>year</th>\n",
       "      <th>cash</th>\n",
       "      <th>cash_flow</th>\n",
       "      <th>cogs</th>\n",
       "      <th>ebitda</th>\n",
       "      <th>net_income</th>\n",
       "      <th>operating_revenue</th>\n",
       "      <th>profit_margin</th>\n",
       "      <th>solvency_ratio</th>\n",
       "      <th>total_assets</th>\n",
       "    </tr>\n",
       "  </thead>\n",
       "  <tbody>\n",
       "    <tr>\n",
       "      <th>0</th>\n",
       "      <td>A2A S.P.A.</td>\n",
       "      <td>2019</td>\n",
       "      <td>-0.186611</td>\n",
       "      <td>-0.113742</td>\n",
       "      <td>0.050296</td>\n",
       "      <td>-0.107829</td>\n",
       "      <td>-0.050281</td>\n",
       "      <td>-0.083231</td>\n",
       "      <td>-0.053813</td>\n",
       "      <td>-0.212344</td>\n",
       "      <td>-0.139042</td>\n",
       "    </tr>\n",
       "    <tr>\n",
       "      <th>1</th>\n",
       "      <td>A2A S.P.A.</td>\n",
       "      <td>2020</td>\n",
       "      <td>0.041915</td>\n",
       "      <td>-0.092808</td>\n",
       "      <td>0.051733</td>\n",
       "      <td>-0.096022</td>\n",
       "      <td>-0.047253</td>\n",
       "      <td>-0.078214</td>\n",
       "      <td>-0.120052</td>\n",
       "      <td>-0.227164</td>\n",
       "      <td>-0.092646</td>\n",
       "    </tr>\n",
       "    <tr>\n",
       "      <th>2</th>\n",
       "      <td>A2A S.P.A.</td>\n",
       "      <td>2021</td>\n",
       "      <td>-0.003531</td>\n",
       "      <td>-0.057679</td>\n",
       "      <td>-0.123806</td>\n",
       "      <td>-0.077898</td>\n",
       "      <td>-0.008334</td>\n",
       "      <td>0.043173</td>\n",
       "      <td>-0.224178</td>\n",
       "      <td>-0.612303</td>\n",
       "      <td>-0.007939</td>\n",
       "    </tr>\n",
       "    <tr>\n",
       "      <th>3</th>\n",
       "      <td>A2A S.P.A.</td>\n",
       "      <td>2022</td>\n",
       "      <td>0.500703</td>\n",
       "      <td>-0.081176</td>\n",
       "      <td>-0.571526</td>\n",
       "      <td>-0.079468</td>\n",
       "      <td>-0.053195</td>\n",
       "      <td>0.346078</td>\n",
       "      <td>-0.335542</td>\n",
       "      <td>-0.730119</td>\n",
       "      <td>0.029664</td>\n",
       "    </tr>\n",
       "    <tr>\n",
       "      <th>4</th>\n",
       "      <td>A2A S.P.A.</td>\n",
       "      <td>2023</td>\n",
       "      <td>0.211043</td>\n",
       "      <td>-0.010680</td>\n",
       "      <td>-0.221091</td>\n",
       "      <td>-0.005285</td>\n",
       "      <td>0.040992</td>\n",
       "      <td>0.127237</td>\n",
       "      <td>-0.173080</td>\n",
       "      <td>-0.547266</td>\n",
       "      <td>-0.002035</td>\n",
       "    </tr>\n",
       "    <tr>\n",
       "      <th>5</th>\n",
       "      <td>AB IGNITIS GROUP</td>\n",
       "      <td>2019</td>\n",
       "      <td>-0.289456</td>\n",
       "      <td>-0.251609</td>\n",
       "      <td>0.242775</td>\n",
       "      <td>-0.254855</td>\n",
       "      <td>-0.167304</td>\n",
       "      <td>-0.265420</td>\n",
       "      <td>-0.168918</td>\n",
       "      <td>0.108034</td>\n",
       "      <td>-0.271846</td>\n",
       "    </tr>\n",
       "    <tr>\n",
       "      <th>6</th>\n",
       "      <td>AB IGNITIS GROUP</td>\n",
       "      <td>2020</td>\n",
       "      <td>-0.089401</td>\n",
       "      <td>-0.225434</td>\n",
       "      <td>0.240854</td>\n",
       "      <td>-0.234367</td>\n",
       "      <td>-0.121560</td>\n",
       "      <td>-0.258577</td>\n",
       "      <td>0.431160</td>\n",
       "      <td>0.268695</td>\n",
       "      <td>-0.252706</td>\n",
       "    </tr>\n",
       "    <tr>\n",
       "      <th>7</th>\n",
       "      <td>AB IGNITIS GROUP</td>\n",
       "      <td>2021</td>\n",
       "      <td>-0.180229</td>\n",
       "      <td>-0.227265</td>\n",
       "      <td>0.213895</td>\n",
       "      <td>-0.238076</td>\n",
       "      <td>-0.132620</td>\n",
       "      <td>-0.241792</td>\n",
       "      <td>0.005308</td>\n",
       "      <td>0.160182</td>\n",
       "      <td>-0.252650</td>\n",
       "    </tr>\n",
       "    <tr>\n",
       "      <th>8</th>\n",
       "      <td>AB IGNITIS GROUP</td>\n",
       "      <td>2022</td>\n",
       "      <td>-0.110027</td>\n",
       "      <td>-0.205151</td>\n",
       "      <td>0.125463</td>\n",
       "      <td>-0.212509</td>\n",
       "      <td>-0.089168</td>\n",
       "      <td>-0.175683</td>\n",
       "      <td>-0.068472</td>\n",
       "      <td>0.035192</td>\n",
       "      <td>-0.239964</td>\n",
       "    </tr>\n",
       "    <tr>\n",
       "      <th>9</th>\n",
       "      <td>AB IGNITIS GROUP</td>\n",
       "      <td>2023</td>\n",
       "      <td>-0.265597</td>\n",
       "      <td>-0.196564</td>\n",
       "      <td>0.199222</td>\n",
       "      <td>-0.214765</td>\n",
       "      <td>-0.076354</td>\n",
       "      <td>-0.224180</td>\n",
       "      <td>0.305136</td>\n",
       "      <td>0.146977</td>\n",
       "      <td>-0.237257</td>\n",
       "    </tr>\n",
       "  </tbody>\n",
       "</table>\n",
       "</div>"
      ],
      "text/plain": [
       "metric           company  year      cash  cash_flow      cogs    ebitda  \\\n",
       "0             A2A S.P.A.  2019 -0.186611  -0.113742  0.050296 -0.107829   \n",
       "1             A2A S.P.A.  2020  0.041915  -0.092808  0.051733 -0.096022   \n",
       "2             A2A S.P.A.  2021 -0.003531  -0.057679 -0.123806 -0.077898   \n",
       "3             A2A S.P.A.  2022  0.500703  -0.081176 -0.571526 -0.079468   \n",
       "4             A2A S.P.A.  2023  0.211043  -0.010680 -0.221091 -0.005285   \n",
       "5       AB IGNITIS GROUP  2019 -0.289456  -0.251609  0.242775 -0.254855   \n",
       "6       AB IGNITIS GROUP  2020 -0.089401  -0.225434  0.240854 -0.234367   \n",
       "7       AB IGNITIS GROUP  2021 -0.180229  -0.227265  0.213895 -0.238076   \n",
       "8       AB IGNITIS GROUP  2022 -0.110027  -0.205151  0.125463 -0.212509   \n",
       "9       AB IGNITIS GROUP  2023 -0.265597  -0.196564  0.199222 -0.214765   \n",
       "\n",
       "metric  net_income  operating_revenue  profit_margin  solvency_ratio  \\\n",
       "0        -0.050281          -0.083231      -0.053813       -0.212344   \n",
       "1        -0.047253          -0.078214      -0.120052       -0.227164   \n",
       "2        -0.008334           0.043173      -0.224178       -0.612303   \n",
       "3        -0.053195           0.346078      -0.335542       -0.730119   \n",
       "4         0.040992           0.127237      -0.173080       -0.547266   \n",
       "5        -0.167304          -0.265420      -0.168918        0.108034   \n",
       "6        -0.121560          -0.258577       0.431160        0.268695   \n",
       "7        -0.132620          -0.241792       0.005308        0.160182   \n",
       "8        -0.089168          -0.175683      -0.068472        0.035192   \n",
       "9        -0.076354          -0.224180       0.305136        0.146977   \n",
       "\n",
       "metric  total_assets  \n",
       "0          -0.139042  \n",
       "1          -0.092646  \n",
       "2          -0.007939  \n",
       "3           0.029664  \n",
       "4          -0.002035  \n",
       "5          -0.271846  \n",
       "6          -0.252706  \n",
       "7          -0.252650  \n",
       "8          -0.239964  \n",
       "9          -0.237257  "
      ]
     },
     "execution_count": 58,
     "metadata": {},
     "output_type": "execute_result"
    }
   ],
   "source": [
    "# Melt the dataframe to long format\n",
    "value_vars = [col for col in data.columns if any(year in col for year in ['2023', '2022', '2021', '2020', '2019'])]\n",
    "id_vars = [col for col in data.columns if col not in value_vars]\n",
    "\n",
    "# Create a new DataFrame by melting\n",
    "melted_data = pd.melt(data, id_vars=id_vars, value_vars=value_vars, \n",
    "                      var_name='metric_year', value_name='value')\n",
    "\n",
    "# Extract metric and year from 'metric_year'\n",
    "melted_data['metric'] = melted_data['metric_year'].apply(lambda x: '_'.join(x.split('_')[:-1]))\n",
    "melted_data['year'] = melted_data['metric_year'].apply(lambda x: x.split('_')[-1]).astype(int)\n",
    "\n",
    "# Pivot the table to have years as rows\n",
    "processed_data = melted_data.pivot_table(index=id_vars + ['year'], columns='metric', values='value').reset_index()\n",
    "\n",
    "# Initialize the scaler and encoder\n",
    "scaler = StandardScaler()\n",
    "\n",
    "# Scale the numerical columns\n",
    "numerical_columns = ['operating_revenue', 'net_income', 'total_assets', \n",
    "                     'profit_margin', 'solvency_ratio', 'cogs', 'ebitda', 'cash', 'cash_flow']\n",
    "processed_data[numerical_columns] = scaler.fit_transform(processed_data[numerical_columns])\n",
    "\n",
    "# Encode categorical columns\n",
    "processed_data = processed_data.drop(columns=['quoted','country','industry'])\n",
    "\n",
    "processed_data.head(10)"
   ]
  },
  {
   "cell_type": "code",
   "execution_count": 59,
   "metadata": {},
   "outputs": [
    {
     "name": "stdout",
     "output_type": "stream",
     "text": [
      "Shape of X_all: (118, 4, 8)\n",
      "Shape of y_all: (118, 4)\n"
     ]
    }
   ],
   "source": [
    "# Assuming `processed_data` is the DataFrame\n",
    "companies = processed_data['company'].unique()\n",
    "X_all, y_all = [], []\n",
    "\n",
    "for company in companies:\n",
    "    company_data = processed_data[processed_data['company'] == company].sort_values(by='year')\n",
    "    X_company, y_company = [], []\n",
    "    for i in range(len(company_data) - 1):\n",
    "        X_company.append(company_data.iloc[i, 3:].values)  # All columns except 'company', 'quoted', 'country', 'industry', 'year'\n",
    "        y_company.append(company_data.iloc[i + 1]['cash_flow'])  # Target is cash_flow at t\n",
    "    \n",
    "    X_all.append(np.array(X_company))\n",
    "    y_all.append(np.array(y_company))\n",
    "\n",
    "# Convert to numpy arrays and change the dtype to float32\n",
    "X_all = np.array(X_all, dtype=np.float32)\n",
    "y_all = np.array(y_all, dtype=np.float32)\n",
    "\n",
    "# Verify the shapes\n",
    "print(f'Shape of X_all: {X_all.shape}')\n",
    "print(f'Shape of y_all: {y_all.shape}')"
   ]
  },
  {
   "cell_type": "code",
   "execution_count": 60,
   "metadata": {},
   "outputs": [],
   "source": [
    "class Time2Vec(tf.keras.layers.Layer):\n",
    "    def __init__(self, kernel_size=1, **kwargs):\n",
    "        self.kernel_size = kernel_size\n",
    "        super(Time2Vec, self).__init__(**kwargs)\n",
    "\n",
    "    def build(self, input_shape):\n",
    "        self.W = self.add_weight(name='W', shape=(input_shape[-1], self.kernel_size),\n",
    "                                 initializer='uniform', trainable=True)\n",
    "        self.B = self.add_weight(name='B', shape=(1, self.kernel_size),\n",
    "                                 initializer='uniform', trainable=True)\n",
    "        self.w = self.add_weight(name='w', shape=(input_shape[-1],),\n",
    "                                 initializer='uniform', trainable=True)\n",
    "        self.b = self.add_weight(name='b', shape=(input_shape[-1],),\n",
    "                                 initializer='uniform', trainable=True)\n",
    "        super(Time2Vec, self).build(input_shape)\n",
    "\n",
    "    def call(self, inputs):\n",
    "        bias = self.w * inputs + self.b\n",
    "        dp = tf.matmul(inputs, self.W) + self.B\n",
    "        wgts = tf.math.sin(dp)\n",
    "        return tf.concat([wgts, bias], -1)\n",
    "\n",
    "    def compute_output_shape(self, input_shape):\n",
    "        return input_shape[0], input_shape[1], input_shape[2] * 2\n",
    "\n",
    "def build_model(hp):\n",
    "    inputs = Input(shape=(X_all.shape[1], X_all.shape[2]))\n",
    "    time2vec = Time2Vec(kernel_size=hp.Int('t2v_kernel_size', min_value=1, max_value=5))(inputs)\n",
    "    \n",
    "    x = time2vec\n",
    "    \n",
    "    for i in range(hp.Int('num_layers', 1, 3)):\n",
    "        if hp.Choice('rnn_type', ['LSTM', 'GRU']) == 'LSTM':\n",
    "            x = Bidirectional(LSTM(units=hp.Int('units', min_value=32, max_value=128, step=32), \n",
    "                                   return_sequences=True))(x)\n",
    "        else:\n",
    "            x = Bidirectional(GRU(units=hp.Int('units', min_value=32, max_value=128, step=32), \n",
    "                                  return_sequences=True))(x)\n",
    "        if hp.Boolean('dropout'):\n",
    "            x = Dropout(rate=0.2)(x)\n",
    "\n",
    "    # Adding Attention Mechanism\n",
    "    attention = Attention()([x, x])\n",
    "    \n",
    "    # Reduce to single output\n",
    "    x = Dense(1)(attention)\n",
    "    \n",
    "    model = Model(inputs, x)\n",
    "    model.compile(optimizer=Adam(learning_rate=hp.Choice('learning_rate', [1e-2, 1e-3, 1e-4])),\n",
    "                  loss='mse', \n",
    "                  metrics=['mae'])\n",
    "    return model"
   ]
  },
  {
   "cell_type": "code",
   "execution_count": 64,
   "metadata": {},
   "outputs": [
    {
     "name": "stdout",
     "output_type": "stream",
     "text": [
      "Trial 100 Complete [00h 00m 55s]\n",
      "val_mae: 0.13455837965011597\n",
      "\n",
      "Best val_mae So Far: 0.09569685906171799\n",
      "Total elapsed time: 01h 08m 27s\n"
     ]
    }
   ],
   "source": [
    "tuner = kt.BayesianOptimization(build_model,\n",
    "                                objective='val_mae',\n",
    "                                max_trials=100,\n",
    "                                directory='models/bayesian_optimization',\n",
    "                                project_name='time2vec_rnn')\n",
    "\n",
    "# Splitting the data into train and test sets\n",
    "split_idx = int(0.8 * len(X_all))\n",
    "X_train_np, X_test_np = X_all[:split_idx], X_all[split_idx:]\n",
    "y_train_np, y_test_np = y_all[:split_idx], y_all[split_idx:]\n",
    "\n",
    "tuner.search(X_train_np, y_train_np, epochs=100, validation_data=(X_test_np, y_test_np))"
   ]
  },
  {
   "cell_type": "code",
   "execution_count": 67,
   "metadata": {},
   "outputs": [
    {
     "data": {
      "text/plain": [
       "{'t2v_kernel_size': 2,\n",
       " 'num_layers': 2,\n",
       " 'rnn_type': 'LSTM',\n",
       " 'units': 96,\n",
       " 'dropout': False,\n",
       " 'learning_rate': 0.001}"
      ]
     },
     "execution_count": 67,
     "metadata": {},
     "output_type": "execute_result"
    }
   ],
   "source": [
    "# Retrieving the best model\n",
    "best_model = tuner.get_best_models(num_models=1)[0]\n",
    "\n",
    "# Verifying the best hyperparameters\n",
    "tuner.get_best_hyperparameters()[0].values"
   ]
  },
  {
   "cell_type": "code",
   "execution_count": 68,
   "metadata": {},
   "outputs": [
    {
     "name": "stderr",
     "output_type": "stream",
     "text": [
      "2024-07-03 13:31:35.600657: W tensorflow/core/grappler/costs/op_level_cost_estimator.cc:693] Error in PredictCost() for the op: op: \"Softmax\" attr { key: \"T\" value { type: DT_FLOAT } } inputs { dtype: DT_FLOAT shape { unknown_rank: true } } device { type: \"GPU\" } outputs { dtype: DT_FLOAT shape { unknown_rank: true } }\n"
     ]
    },
    {
     "name": "stdout",
     "output_type": "stream",
     "text": [
      "1/1 [==============================] - 8s 8s/step - loss: 0.0498 - mae: 0.0957\n"
     ]
    },
    {
     "data": {
      "text/plain": [
       "[0.049753278493881226, 0.09569685906171799]"
      ]
     },
     "execution_count": 68,
     "metadata": {},
     "output_type": "execute_result"
    }
   ],
   "source": [
    "# Evaluate the best model\n",
    "best_model.evaluate(X_test_np, y_test_np)"
   ]
  },
  {
   "cell_type": "code",
   "execution_count": 69,
   "metadata": {},
   "outputs": [
    {
     "name": "stdout",
     "output_type": "stream",
     "text": [
      "INFO:tensorflow:Assets written to: models/time2vec_rnn_best_model/assets\n"
     ]
    },
    {
     "name": "stderr",
     "output_type": "stream",
     "text": [
      "INFO:tensorflow:Assets written to: models/time2vec_rnn_best_model/assets\n"
     ]
    }
   ],
   "source": [
    "# Storing the best model\n",
    "best_model.save('models/time2vec_rnn_best_model')"
   ]
  },
  {
   "cell_type": "code",
   "execution_count": 70,
   "metadata": {},
   "outputs": [
    {
     "name": "stderr",
     "output_type": "stream",
     "text": [
      "2024-07-03 13:32:01.490070: W tensorflow/core/grappler/costs/op_level_cost_estimator.cc:693] Error in PredictCost() for the op: op: \"Softmax\" attr { key: \"T\" value { type: DT_FLOAT } } inputs { dtype: DT_FLOAT shape { unknown_rank: true } } device { type: \"GPU\" } outputs { dtype: DT_FLOAT shape { unknown_rank: true } }\n"
     ]
    },
    {
     "name": "stdout",
     "output_type": "stream",
     "text": [
      "3/3 [==============================] - 7s 863ms/step\n",
      "1/1 [==============================] - 2s 2s/step\n"
     ]
    }
   ],
   "source": [
    "y_pred_train = np.squeeze(best_model.predict(X_train_np), axis=-1)\n",
    "y_pred_test = np.squeeze(best_model.predict(X_test_np), axis=-1)"
   ]
  },
  {
   "cell_type": "code",
   "execution_count": 71,
   "metadata": {},
   "outputs": [],
   "source": [
    "from sklearn.metrics import mean_squared_error, mean_absolute_error, r2_score\n",
    "\n",
    "def calculate_metrics(y_actual, predictions):\n",
    "    '''\n",
    "    A function that calculates and prints the RMSE, MAE, sMAPE and R2 score of a given actual and predicted series.\n",
    "    A caveat of sMAPE, we measure it as outlined by Makridakis and Hibon (2000). Further information can be found in:\n",
    "    https://robjhyndman.com/hyndsight/smape/. As well as both sources defined in the references folder.\n",
    "    '''\n",
    "    # Calculate Mean Squared Error and Root Mean Squared Error\n",
    "    mse = mean_squared_error(y_actual, predictions)\n",
    "    rmse = np.sqrt(mse)\n",
    "    \n",
    "    # Calculate Mean Absolute Error\n",
    "    mae = mean_absolute_error(y_actual, predictions)\n",
    "    \n",
    "    # Calculate Symmetric Mean Absolute Percentage Error (SMAPE)\n",
    "    smape = np.mean(2.0 * np.abs(y_actual - predictions) / ((np.abs(y_actual) + np.abs(predictions)) + 1e-10)) * 100\n",
    "    \n",
    "    # Calculate R-squared\n",
    "    r2 = r2_score(y_actual, predictions)\n",
    "\n",
    "    print(f'RMSE: {rmse}')\n",
    "    print(f'MAE: {mae}')\n",
    "    print(f'sMAPE(0-200): {smape}%')\n",
    "    print(f'R-squared: {r2}')"
   ]
  },
  {
   "cell_type": "code",
   "execution_count": 72,
   "metadata": {},
   "outputs": [
    {
     "name": "stdout",
     "output_type": "stream",
     "text": [
      "Best RNN model - Train metrics:\n",
      "RMSE: 0.22897104918956757\n",
      "MAE: 0.06671774387359619\n",
      "sMAPE(0-200): 18.333913385868073%\n",
      "R-squared: 0.8091707007963322\n",
      "\n",
      " Best RNN model - Test metrics:\n",
      "RMSE: 0.223054438829422\n",
      "MAE: 0.09569685161113739\n",
      "sMAPE(0-200): 37.482818961143494%\n",
      "R-squared: 0.9872139223029276\n"
     ]
    }
   ],
   "source": [
    "print('Best RNN model - Train metrics:')\n",
    "calculate_metrics(y_train_np, y_pred_train)\n",
    "print('\\n Best RNN model - Test metrics:')\n",
    "calculate_metrics(y_test_np, y_pred_test)"
   ]
  }
 ],
 "metadata": {
  "kernelspec": {
   "display_name": "Python 3",
   "language": "python",
   "name": "python3"
  },
  "language_info": {
   "codemirror_mode": {
    "name": "ipython",
    "version": 3
   },
   "file_extension": ".py",
   "mimetype": "text/x-python",
   "name": "python",
   "nbconvert_exporter": "python",
   "pygments_lexer": "ipython3",
   "version": "3.9.13"
  }
 },
 "nbformat": 4,
 "nbformat_minor": 2
}
